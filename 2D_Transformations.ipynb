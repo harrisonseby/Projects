{
  "nbformat": 4,
  "nbformat_minor": 0,
  "metadata": {
    "colab": {
      "name": "2D Transformations.ipynb",
      "provenance": [],
      "collapsed_sections": []
    },
    "kernelspec": {
      "name": "python3",
      "display_name": "Python 3"
    },
    "language_info": {
      "name": "python"
    }
  },
  "cells": [
    {
      "cell_type": "markdown",
      "metadata": {
        "id": "DtunLJEtadvb"
      },
      "source": [
        "Hello to all. This notebook consists of 2D transformations of various types. Each transformation is divided into each code block for easier understanding and usage. The transformations given below are:\n",
        "\n",
        "* Rotate about the origin\n",
        "* Translation\n",
        "* Combined rotation and translation\n",
        "* Rotating one point about another\n",
        "* Reflection about a point\n",
        "* Reflection about an arbitrary line\n",
        "* Scaling\n",
        "* Shearing"
      ]
    },
    {
      "cell_type": "code",
      "metadata": {
        "id": "otYePykf2bgE"
      },
      "source": [
        "import numpy as np\n",
        "import matplotlib.pyplot as plt\n",
        "import matplotlib.patches as mpatch"
      ],
      "execution_count": null,
      "outputs": []
    },
    {
      "cell_type": "markdown",
      "metadata": {
        "id": "HJIHD9D_W69A"
      },
      "source": [
        "### Rotate about origin\n",
        "You have to input the angle and the coordinates. The output is a rotated body about the origin"
      ]
    },
    {
      "cell_type": "code",
      "metadata": {
        "id": "B8gAl8ACW7T2"
      },
      "source": [
        "def rotate_about_origin():\n",
        "  col = int(input(\"Enter the number of points:\"))\n",
        "  a=[]\n",
        "  b=[]\n",
        "  c=[]\n",
        "  angle=int(input(\"Enter angle:\"))*np.pi/180\n",
        "  for j in range(col):\n",
        "    print(\"Enter\",j+1,\"coordinate\")\n",
        "    A = input()\n",
        "    A = A.split(\",\")\n",
        "    x=float(A[0])\n",
        "    y=float(A[1])\n",
        "    a.append(x)\n",
        "    b.append(y)    \n",
        "  c = np.ones(col)    \n",
        "  matrix=np.array([a,b,c])\n",
        "  print(matrix)\n",
        "  print(angle)\n",
        "  rotation=np.array([[np.cos(angle), -np.sin(angle), 0],\n",
        "                     [np.sin(angle), np.cos(angle), 0],\n",
        "                     [0, 0, 1]])\n",
        "  plt.figure(figsize=(8,8))\n",
        "  plt.xlim(-8,8)\n",
        "  plt.ylim(-8,8)\n",
        "  new_matrix = rotation.dot(matrix)\n",
        "  if col == 1:\n",
        "    plt.plot([0,matrix[0,0]],[0,matrix[1,0]],\"-\",color=\"black\")\n",
        "    plt.plot([0,new_matrix[0,0]],[0,new_matrix[1,0]],\"-\",color=\"blue\")\n",
        "  else:\n",
        "    for i in range(col):\n",
        "      if i == (col-1):\n",
        "        plt.plot([matrix[0,i],matrix[0,0]],[matrix[1,i],matrix[1,0]],\"-\",color=\"black\")\n",
        "        plt.plot([new_matrix[0,i],new_matrix[0,0]],[new_matrix[1,i],new_matrix[1,0]],\"-\",color=\"blue\")  \n",
        "      else:  \n",
        "        plt.plot([matrix[0,i],matrix[0,i+1]],[matrix[1,i],matrix[1,i+1]],\"-\",color=\"black\")\n",
        "        plt.plot([new_matrix[0,i],new_matrix[0,i+1]],[new_matrix[1,i],new_matrix[1,i+1]],\"-\",color=\"blue\")  \n",
        "  print(new_matrix)\n",
        "  Initial = mpatch.Patch(color=\"black\", label = \"Initial\")\n",
        "  Final = mpatch.Patch(color=\"blue\", label = \"Final\")\n",
        "  plt.legend(handles=[Initial, Final], loc=\"upper left\")\n",
        "  plt.show()"
      ],
      "execution_count": null,
      "outputs": []
    },
    {
      "cell_type": "code",
      "metadata": {
        "colab": {
          "base_uri": "https://localhost:8080/",
          "height": 773
        },
        "id": "e--TxphrfuPj",
        "outputId": "8d0c83ab-8236-4464-cecb-5740c51ed898"
      },
      "source": [
        "rotate_about_origin()"
      ],
      "execution_count": null,
      "outputs": [
        {
          "output_type": "stream",
          "text": [
            "Enter the number of points:4\n",
            "Enter angle:30\n",
            "Enter 1 coordinate\n",
            "0,0\n",
            "Enter 2 coordinate\n",
            "3,0\n",
            "Enter 3 coordinate\n",
            "3,3\n",
            "Enter 4 coordinate\n",
            "0,3\n",
            "[[0. 3. 3. 0.]\n",
            " [0. 0. 3. 3.]\n",
            " [1. 1. 1. 1.]]\n",
            "0.5235987755982988\n",
            "[[ 0.          2.59807621  1.09807621 -1.5       ]\n",
            " [ 0.          1.5         4.09807621  2.59807621]\n",
            " [ 1.          1.          1.          1.        ]]\n"
          ],
          "name": "stdout"
        },
        {
          "output_type": "display_data",
          "data": {
            "image/png": "[encoded data removed]",
            "text/plain": [
              "<Figure size 576x576 with 1 Axes>"
            ]
          },
          "metadata": {
            "tags": [],
            "needs_background": "light"
          }
        }
      ]
    },
    {
      "cell_type": "markdown",
      "metadata": {
        "id": "rKO1otBLctp_"
      },
      "source": [
        "### Translation\n",
        "You have to input the point to be translated to and the coordinates. The output is a translated body from the initial position to the final position"
      ]
    },
    {
      "cell_type": "code",
      "metadata": {
        "id": "enqyP-hfct-3"
      },
      "source": [
        "def translation():\n",
        "  col = int(input(\"Enter the number of points:\"))\n",
        "  a=[]\n",
        "  b=[]\n",
        "  c=[]\n",
        "  tr = input(\"Enter the point to be translated:\")\n",
        "  tr = tr.split(\",\")\n",
        "  for j in range(col):\n",
        "    print(\"Enter\",j+1,\"coordinate\")\n",
        "    A = input()\n",
        "    A = A.split(\",\")\n",
        "    x=float(A[0])\n",
        "    y=float(A[1])\n",
        "    a.append(x)\n",
        "    b.append(y)    \n",
        "  c = np.ones(col)    \n",
        "  matrix=np.array([a,b,c])\n",
        "  print(matrix)\n",
        "  print(tr)\n",
        "  translation=np.array([[1,0,int(tr[0])],\n",
        "                        [0,1,int(tr[1])],\n",
        "                        [0,0,1]])\n",
        "  plt.figure(figsize=(10,10))\n",
        "  plt.xlim(-8,8)\n",
        "  plt.ylim(-8,8)\n",
        "  new_matrix = translation.dot(matrix)\n",
        "  if col == 1:\n",
        "    plt.plot([0,matrix[0,0]],[0,matrix[1,0]],\"-\",color=\"black\")\n",
        "    plt.plot([0,new_matrix[0,0]],[0,new_matrix[1,0]],\"-\",color=\"blue\")\n",
        "  else:\n",
        "    for i in range(col):\n",
        "      if i == (col-1):\n",
        "        plt.plot([matrix[0,i],matrix[0,0]],[matrix[1,i],matrix[1,0]],\"-\",color=\"black\")\n",
        "        plt.plot([new_matrix[0,i],new_matrix[0,0]],[new_matrix[1,i],new_matrix[1,0]],\"-\",color=\"blue\")  \n",
        "      else:  \n",
        "        plt.plot([matrix[0,i],matrix[0,i+1]],[matrix[1,i],matrix[1,i+1]],\"-\",color=\"black\")\n",
        "        plt.plot([new_matrix[0,i],new_matrix[0,i+1]],[new_matrix[1,i],new_matrix[1,i+1]],\"-\",color=\"blue\")  \n",
        "  print(new_matrix)\n",
        "  Initial = mpatch.Patch(color=\"black\", label = \"Initial\")\n",
        "  Final = mpatch.Patch(color=\"blue\", label = \"Final\")\n",
        "  plt.legend(handles=[Initial, Final], loc=\"upper left\")\n",
        "  plt.show()"
      ],
      "execution_count": null,
      "outputs": []
    },
    {
      "cell_type": "code",
      "metadata": {
        "colab": {
          "base_uri": "https://localhost:8080/",
          "height": 848
        },
        "id": "jJV0Bs_igGvg",
        "outputId": "64f9a913-818a-432b-ed65-d32df4d9dbc2"
      },
      "source": [
        "translation()"
      ],
      "execution_count": null,
      "outputs": [
        {
          "output_type": "stream",
          "text": [
            "Enter the number of points:3\n",
            "Enter the point to be translated:2,3\n",
            "Enter 1 coordinate\n",
            "0,0\n",
            "Enter 2 coordinate\n",
            "3,0\n",
            "Enter 3 coordinate\n",
            "1.5,3\n",
            "[[0.  3.  1.5]\n",
            " [0.  0.  3. ]\n",
            " [1.  1.  1. ]]\n",
            "['2', '3']\n",
            "[[2.  5.  3.5]\n",
            " [3.  3.  6. ]\n",
            " [1.  1.  1. ]]\n"
          ],
          "name": "stdout"
        },
        {
          "output_type": "display_data",
          "data": {
            "image/png": "[encoded data removed]",
            "text/plain": [
              "<Figure size 720x720 with 1 Axes>"
            ]
          },
          "metadata": {
            "tags": [],
            "needs_background": "light"
          }
        }
      ]
    },
    {
      "cell_type": "markdown",
      "metadata": {
        "id": "K54-O8DKJcoE"
      },
      "source": [
        "### Combined Rotation and Translation\n",
        "You have to input the angle to be rotated and the point to be to translated to. The output is a combination of both rotation about the origin and translation"
      ]
    },
    {
      "cell_type": "code",
      "metadata": {
        "id": "pmfinhpXGssM"
      },
      "source": [
        "def rotation_2D():\n",
        "  col = int(input(\"Enter the number of points:\"))\n",
        "  a=[]\n",
        "  b=[]\n",
        "  c=[]\n",
        "  angle=int(input(\"Enter angle to be rotate:\"))*np.pi/180\n",
        "  tr=input(\"Enter point to be translated:\")\n",
        "  tr = tr.split(\",\")\n",
        "  for j in range(col):\n",
        "    print(\"Enter\",j+1,\"coordinate\")\n",
        "    A = input()\n",
        "    A = A.split(\",\")\n",
        "    x=float(A[0])\n",
        "    y=float(A[1])\n",
        "    a.append(x)\n",
        "    b.append(y)    \n",
        "  c = np.ones(col)    \n",
        "  matrix=np.array([a,b,c])\n",
        "  print(matrix)\n",
        "  print(tr)\n",
        "  Rotation=np.array([[np.cos(angle), -np.sin(angle), 0],\n",
        "                     [np.sin(angle), np.cos(angle), 0],\n",
        "                     [0, 0, 1]])\n",
        "  translation=np.array([[1,0,int(tr[0])],\n",
        "                        [0,1,int(tr[1])],\n",
        "                        [0,0,1]])\n",
        "  fig, (ax1,ax2) = plt.subplots(1,2, figsize=(17,7.5))\n",
        "  ax1.set_xlim(-2, 15)\n",
        "  ax1.set_ylim(-2, 15)\n",
        "  ax2.set_xlim(-2, 15)\n",
        "  ax2.set_ylim(-2, 15)\n",
        "  ax1.set_title(\"Rotation then translation\")\n",
        "  ax2.set_title(\"Translation then rotation\")\n",
        "  new_matrix1i= Rotation.dot(matrix)\n",
        "  new_matrix2i= translation.dot(matrix)\n",
        "  new_matrix1= translation.dot(new_matrix1i)\n",
        "  new_matrix2= Rotation.dot(new_matrix2i)\n",
        "  \n",
        "  if col == 1:\n",
        "    ax1.plot([0,matrix[0,0]],[0,matrix[1,0]],\"-\",color=\"blue\")\n",
        "    ax2.plot([0,matrix[0,0]],[0,matrix[1,0]],\"-\",color=\"blue\")\n",
        "    \n",
        "    ax1.plot([0,new_matrix1i[0,0]],[0,new_matrix1i[1,0]],\"-\",color=\"red\")\n",
        "    ax2.plot([0,new_matrix2i[0,0]],[0,new_matrix2i[1,0]],\"-\",color=\"red\")\n",
        "    \n",
        "    ax1.plot([0,new_matrix1[0,0]],[0,new_matrix1[1,0]],\"-\",color=\"black\")\n",
        "    ax2.plot([0,new_matrix2[0,0]],[0,new_matrix2[1,0]],\"-\",color=\"black\")\n",
        "  else:\n",
        "    for i in range(col):\n",
        "      if i == (col-1):\n",
        "        ax1.plot([matrix[0,i],matrix[0,0]],[matrix[1,i],matrix[1,0]],\"-\",color=\"blue\")\n",
        "        ax1.plot([new_matrix1i[0,i],new_matrix1i[0,0]],[new_matrix1i[1,i],new_matrix1i[1,0]],\"-\",color=\"red\")\n",
        "        ax1.plot([new_matrix1[0,i],new_matrix1[0,0]],[new_matrix1[1,i],new_matrix1[1,0]],\"-\",color=\"black\")\n",
        "        ax2.plot([matrix[0,i],matrix[0,0]],[matrix[1,i],matrix[1,0]],\"-\",color=\"blue\")\n",
        "        ax2.plot([new_matrix2i[0,i],new_matrix2i[0,0]],[new_matrix2i[1,i],new_matrix2i[1,0]],\"-\",color=\"red\") \n",
        "        ax2.plot([new_matrix2[0,i],new_matrix2[0,0]],[new_matrix2[1,i],new_matrix2[1,0]],\"-\",color=\"black\") \n",
        "      else:  \n",
        "        ax1.plot([matrix[0,i],matrix[0,i+1]],[matrix[1,i],matrix[1,i+1]],\"-\",color=\"blue\")\n",
        "        ax1.plot([new_matrix1i[0,i],new_matrix1i[0,i+1]],[new_matrix1i[1,i],new_matrix1i[1,i+1]],\"-\",color=\"red\")\n",
        "        ax1.plot([new_matrix1[0,i],new_matrix1[0,i+1]],[new_matrix1[1,i],new_matrix1[1,i+1]],\"-\",color=\"black\")\n",
        "        ax2.plot([matrix[0,i],matrix[0,i+1]],[matrix[1,i],matrix[1,i+1]],\"-\",color=\"blue\")\n",
        "        ax2.plot([new_matrix2i[0,i],new_matrix2i[0,i+1]],[new_matrix2i[1,i],new_matrix2i[1,i+1]],\"-\",color=\"red\") \n",
        "        ax2.plot([new_matrix2[0,i],new_matrix2[0,i+1]],[new_matrix2[1,i],new_matrix2[1,i+1]],\"-\",color=\"black\")\n",
        "  Initial = mpatch.Patch(color=\"blue\", label = \"Initial\")\n",
        "  Intermediate = mpatch.Patch(color=\"red\", label = \"Intermediate\")\n",
        "  Final = mpatch.Patch(color=\"black\", label = \"Final\")\n",
        "  ax1.legend(handles=[Initial, Intermediate, Final], loc=\"upper left\")\n",
        "  ax2.legend(handles=[Initial, Intermediate, Final], loc=\"upper left\")  \n",
        "  plt.show()"
      ],
      "execution_count": null,
      "outputs": []
    },
    {
      "cell_type": "code",
      "metadata": {
        "colab": {
          "base_uri": "https://localhost:8080/",
          "height": 724
        },
        "id": "F96XsJ15gWi7",
        "outputId": "72f841c6-7f4a-450e-bf8f-60b328a7bc45"
      },
      "source": [
        "rotation_2D()"
      ],
      "execution_count": null,
      "outputs": [
        {
          "output_type": "stream",
          "text": [
            "Enter the number of points:4\n",
            "Enter angle to be rotate:30\n",
            "Enter point to be translated:3,4\n",
            "Enter 1 coordinate\n",
            "0,0\n",
            "Enter 2 coordinate\n",
            "2,0\n",
            "Enter 3 coordinate\n",
            "2,2\n",
            "Enter 4 coordinate\n",
            "0,2\n",
            "[[0. 2. 2. 0.]\n",
            " [0. 0. 2. 2.]\n",
            " [1. 1. 1. 1.]]\n",
            "['3', '4']\n"
          ],
          "name": "stdout"
        },
        {
          "output_type": "display_data",
          "data": {
            "image/png": "[encoded data removed]",
            "text/plain": [
              "<Figure size 1224x540 with 2 Axes>"
            ]
          },
          "metadata": {
            "tags": [],
            "needs_background": "light"
          }
        }
      ]
    },
    {
      "cell_type": "markdown",
      "metadata": {
        "id": "zkucFYSxLfOn"
      },
      "source": [
        "### Rotating one point about another\n",
        "You have to input the angle to be rotated and the point about which the rotation should occur."
      ]
    },
    {
      "cell_type": "code",
      "metadata": {
        "id": "ViL3TqwrLfpH"
      },
      "source": [
        "def rotation_point_2D():\n",
        "  angle=int(input(\"Enter angle to be rotate:\"))*np.pi/180\n",
        "  point=input(\"Enter point:\")\n",
        "  point = point.split(\",\")\n",
        "  point[0] = float(point[0])\n",
        "  point[1] = float(point[1])\n",
        "  tr=input(\"Enter point to rotate about:\")\n",
        "  tr = tr.split(\",\")\n",
        "  origin=np.array([[1,0,-float(tr[0])],\n",
        "                        [0,1,-float(tr[1])],\n",
        "                        [0,0,1]])\n",
        "  ret=np.array([[1,0,float(tr[0])],\n",
        "                        [0,1,float(tr[1])],\n",
        "                        [0,0,1]])\n",
        "  matrix = np.array([[point[0]],\n",
        "                     [point[1]],\n",
        "                     [1]])\n",
        "  rotation = np.array([[np.cos(angle), -np.sin(angle), 0],\n",
        "                      [np.sin(angle), np.cos(angle), 0],\n",
        "                      [0, 0, 1]])\n",
        "  plt.figure(figsize=(8,8))\n",
        "  plt.xlim(-8,8)\n",
        "  plt.ylim(-8,8)\n",
        "  plt.plot([-8,8], [0,0], \"-\", color=\"black\", linewidth=0.5)\n",
        "  plt.plot([0,0], [-8,8], \"-\", color=\"black\", linewidth=0.5)\n",
        "  plt.plot([float(tr[0]),point[0]], [float(tr[1]),point[1]], \"--\", color=\"black\")\n",
        "  new_matrix=ret.dot(rotation.dot(origin.dot(matrix)))\n",
        "  plt.plot([float(tr[0]),new_matrix[0,0]], [float(tr[1]),new_matrix[1,0]], \"--\", color=\"red\")\n",
        "  plt.plot([point[0]], [point[1]], \"o\", color = \"black\", label = \"Initial\")\n",
        "  plt.plot([new_matrix[0,0]], [new_matrix[1,0]], \"o\", color = \"red\", label = \"Final\")\n",
        "  plt.plot([float(tr[0])], [float(tr[1])], \"o\", color = \"green\", label = \"Rotating hinge\")\n",
        "  plt.legend(loc=\"upper left\")\n",
        "  plt.show()"
      ],
      "execution_count": null,
      "outputs": []
    },
    {
      "cell_type": "code",
      "metadata": {
        "colab": {
          "base_uri": "https://localhost:8080/",
          "height": 538
        },
        "id": "jDueG_1kgjLQ",
        "outputId": "804e4a61-e9c1-4add-d975-6f37a7fac778"
      },
      "source": [
        "rotation_point_2D()"
      ],
      "execution_count": null,
      "outputs": [
        {
          "output_type": "stream",
          "text": [
            "Enter angle to be rotate:30\n",
            "Enter point:4,5\n",
            "Enter point to rotate about:1,1.5\n"
          ],
          "name": "stdout"
        },
        {
          "output_type": "display_data",
          "data": {
            "image/png": "[encoded data removed]",
            "text/plain": [
              "<Figure size 576x576 with 1 Axes>"
            ]
          },
          "metadata": {
            "tags": [],
            "needs_background": "light"
          }
        }
      ]
    },
    {
      "cell_type": "markdown",
      "metadata": {
        "id": "OqqA2XK7IYdd"
      },
      "source": [
        "### Reflection about a point\n",
        "You have to input the point to be reflected through and the coordinates. The output is a body mirrored through the point"
      ]
    },
    {
      "cell_type": "code",
      "metadata": {
        "id": "aASfqLA1IcL0"
      },
      "source": [
        "def reflect_through_point():\n",
        "  col = int(input(\"Enter the number of points:\"))\n",
        "  a=[]\n",
        "  b=[]\n",
        "  c=[]\n",
        "  tr=input(\"Enter point to be reflected through:\")\n",
        "  tr = tr.split(\",\")\n",
        "  p = int(tr[0])\n",
        "  q = int(tr[1])\n",
        "  for j in range(col):\n",
        "    print(\"Enter\",j+1,\"coordinate\")\n",
        "    A = input()\n",
        "    A = A.split(\",\")\n",
        "    x=float(A[0])\n",
        "    y=float(A[1])\n",
        "    a.append(x)\n",
        "    b.append(y)    \n",
        "  c = np.ones(col)    \n",
        "  matrix=np.array([a,b,c])\n",
        "  print(matrix)\n",
        "  print(tr)\n",
        "  reflection = np.array([[-1, 0, 0],\n",
        "                             [0, -1, 0],\n",
        "                             [0, 0, 1]])\n",
        "  translation = np.array([[1, 0, -p],\n",
        "                          [0, 1, -q],\n",
        "                          [0, 0, 1]])\n",
        "  returning = np.array([[1, 0, p],\n",
        "                        [0, 1, q],\n",
        "                        [0, 0, 1]])\n",
        "  plt.figure(figsize=(8,8))\n",
        "  plt.xlim(-8,8)\n",
        "  plt.ylim(-8,8)\n",
        "  plt.plot([-8,8], [0,0], \"-\", color=\"black\", linewidth=0.5)\n",
        "  plt.plot([0,0], [-8,8], \"-\", color=\"black\", linewidth=0.5)\n",
        "  new_matrix = returning.dot(reflection.dot(translation.dot(matrix)))\n",
        "  if col == 1:\n",
        "    plt.plot([0,matrix[0,0]],[0,matrix[1,0]],\"-\",color=\"black\")\n",
        "    plt.plot([0,new_matrix[0,0]],[0,new_matrix[1,0]],\"-\",color=\"blue\")\n",
        "  else:\n",
        "    for i in range(col):\n",
        "      if i == (col-1):\n",
        "        plt.plot([matrix[0,i],matrix[0,0]],[matrix[1,i],matrix[1,0]],\"-\",color=\"black\")\n",
        "        plt.plot([new_matrix[0,i],new_matrix[0,0]],[new_matrix[1,i],new_matrix[1,0]],\"-\",color=\"blue\")  \n",
        "      else:  \n",
        "        plt.plot([matrix[0,i],matrix[0,i+1]],[matrix[1,i],matrix[1,i+1]],\"-\",color=\"black\")\n",
        "        plt.plot([new_matrix[0,i],new_matrix[0,i+1]],[new_matrix[1,i],new_matrix[1,i+1]],\"-\",color=\"blue\")\n",
        "  Initial = mpatch.Patch(color=\"black\", label = \"Initial\")\n",
        "  Final = mpatch.Patch(color=\"blue\", label = \"Final\")\n",
        "  plt.legend(handles=[Initial, Final], loc=\"upper left\")\n",
        "  plt.show()"
      ],
      "execution_count": null,
      "outputs": []
    },
    {
      "cell_type": "code",
      "metadata": {
        "colab": {
          "base_uri": "https://localhost:8080/",
          "height": 689
        },
        "id": "DY5bWS3uh7Uz",
        "outputId": "1a745836-f3a4-45c3-814d-58c2b53d6809"
      },
      "source": [
        "reflect_through_point()"
      ],
      "execution_count": null,
      "outputs": [
        {
          "output_type": "stream",
          "text": [
            "Enter the number of points:3\n",
            "Enter point to be reflected through:-1,-2\n",
            "Enter 1 coordinate\n",
            "0,0\n",
            "Enter 2 coordinate\n",
            "3,0\n",
            "Enter 3 coordinate\n",
            "1.5,3\n",
            "[[0.  3.  1.5]\n",
            " [0.  0.  3. ]\n",
            " [1.  1.  1. ]]\n",
            "['-1', '-2']\n"
          ],
          "name": "stdout"
        },
        {
          "output_type": "display_data",
          "data": {
            "image/png": "[encoded data removed]",
            "text/plain": [
              "<Figure size 576x576 with 1 Axes>"
            ]
          },
          "metadata": {
            "tags": [],
            "needs_background": "light"
          }
        }
      ]
    },
    {
      "cell_type": "markdown",
      "metadata": {
        "id": "HtiSRmh-bAM6"
      },
      "source": [
        "### Reflection about an arbitrary line\n",
        "You have to input the mirror line as a point and an angle and the coordinates. The output is a reflected body about the mirror line\n"
      ]
    },
    {
      "cell_type": "code",
      "metadata": {
        "id": "6g3JRoC0bAlj"
      },
      "source": [
        "def reflection_about_line():\n",
        "  col = int(input(\"Enter the number of points:\"))\n",
        "  a=[]\n",
        "  b=[]\n",
        "  c=[]\n",
        "  angle=int(input(\"Enter angle of the mirror line:\"))\n",
        "  tr=input(\"Enter the point in the mirror line:\")\n",
        "  tr = tr.split(\",\")\n",
        "  p = int(tr[0])\n",
        "  q = int(tr[1])\n",
        "  ang = (90-angle)*np.pi/180\n",
        "  angle = angle*np.pi/180\n",
        " \n",
        "  reflection = np.array([[-1, 0, 0],\n",
        "                         [0, 1, 0],\n",
        "                         [0, 0, 1]])\n",
        "  \n",
        "  returning=np.array([[1,0,p],\n",
        "                      [0,1,q],\n",
        "                      [0,0,1]])\n",
        "  \n",
        "  translation=np.array([[1,0,-p],\n",
        "                        [0,1,-q],\n",
        "                        [0,0,1]])\n",
        "  \n",
        "  rotate1= np.array([[np.cos(ang),np.sin(ang),0],\n",
        "                    [-np.sin(ang),np.cos(ang),0],\n",
        "                    [0,0,1]])\n",
        "  \n",
        "  rotate2= np.array([[np.cos(ang),-np.sin(ang),0],\n",
        "                    [np.sin(ang),np.cos(ang),0],\n",
        "                    [0,0,1]])\n",
        "  for j in range(col):\n",
        "    print(\"Enter\",j+1,\"coordinate\")\n",
        "    A = input()\n",
        "    A = A.split(\",\")\n",
        "    x=float(A[0])\n",
        "    y=float(A[1])\n",
        "    a.append(x)\n",
        "    b.append(y)    \n",
        "  c = np.ones(col)    \n",
        "  matrix=np.array([a,b,c])\n",
        "  print(matrix)\n",
        "  print(tr)\n",
        "  new_matrix= returning.dot(rotate1.dot(reflection.dot(rotate2.dot(translation.dot(matrix)))))\n",
        "  x2 = max(a) + 10\n",
        "  x1 = min(a) - 10\n",
        "  c = q - np.tan(angle)*p\n",
        "  plt.figure(figsize=(8,8))\n",
        "  plt.plot([-8,8], [0,0], \"-\", color=\"black\", linewidth=0.5)\n",
        "  plt.plot([0,0], [-8,8], \"-\", color=\"black\", linewidth=0.5)\n",
        "  plt.xlim(-10,10)\n",
        "  plt.ylim(-10,10)\n",
        "  if col == 1:\n",
        "    plt.plot([0,matrix[0,0]],[0,matrix[1,0]],\"-\",color=\"black\")\n",
        "    plt.plot([0,new_matrix[0,0]],[0,new_matrix[1,0]],\"-\",color=\"blue\")\n",
        "  else:\n",
        "    for i in range(col):\n",
        "      if i == (col-1):\n",
        "        plt.plot([matrix[0,i],matrix[0,0]],[matrix[1,i],matrix[1,0]],\"-\",color=\"black\")\n",
        "        plt.plot([new_matrix[0,i],new_matrix[0,0]],[new_matrix[1,i],new_matrix[1,0]],\"-\",color=\"blue\")  \n",
        "      else:  \n",
        "        plt.plot([matrix[0,i],matrix[0,i+1]],[matrix[1,i],matrix[1,i+1]],\"-\",color=\"black\")\n",
        "        plt.plot([new_matrix[0,i],new_matrix[0,i+1]],[new_matrix[1,i],new_matrix[1,i+1]],\"-\",color=\"blue\")  \n",
        "  plt.plot([x1,x2], [(np.tan(angle)*x1 + c), (np.tan(angle)*x2 + c)], \"--\", color=\"black\")\n",
        "  print(new_matrix)\n",
        "  Initial = mpatch.Patch(color=\"black\", label = \"Initial\")\n",
        "  Final = mpatch.Patch(color=\"blue\", label = \"Final\")\n",
        "  plt.legend(handles=[Initial, Final], loc=\"upper left\")\n",
        "  plt.show()"
      ],
      "execution_count": null,
      "outputs": []
    },
    {
      "cell_type": "code",
      "metadata": {
        "colab": {
          "base_uri": "https://localhost:8080/",
          "height": 756
        },
        "id": "7vizI7k_iLqy",
        "outputId": "3e7a4df9-6739-4125-8ceb-34487d978873"
      },
      "source": [
        "reflection_about_line()"
      ],
      "execution_count": null,
      "outputs": [
        {
          "output_type": "stream",
          "text": [
            "Enter the number of points:3\n",
            "Enter angle of the mirror line:50\n",
            "Enter the point in the mirror line:4,0\n",
            "Enter 1 coordinate\n",
            "0,0\n",
            "Enter 2 coordinate\n",
            "2,0\n",
            "Enter 3 coordinate\n",
            "1,2\n",
            "[[0. 2. 1.]\n",
            " [0. 0. 2.]\n",
            " [1. 1. 1.]]\n",
            "['4', '0']\n",
            "[[ 4.69459271  4.34729636  6.49056004]\n",
            " [-3.93923101 -1.96961551 -2.6071269 ]\n",
            " [ 1.          1.          1.        ]]\n"
          ],
          "name": "stdout"
        },
        {
          "output_type": "display_data",
          "data": {
            "image/png": "[encoded data removed]",
            "text/plain": [
              "<Figure size 576x576 with 1 Axes>"
            ]
          },
          "metadata": {
            "tags": [],
            "needs_background": "light"
          }
        }
      ]
    },
    {
      "cell_type": "markdown",
      "metadata": {
        "id": "SKHTlhAr21Wl"
      },
      "source": [
        "### Scaling\n",
        "You have to input the scaling factors both in the x direction as well as the y direction and the coordinates. The output is a scaled body in the given directions"
      ]
    },
    {
      "cell_type": "code",
      "metadata": {
        "id": "URzIJvjl23Ud"
      },
      "source": [
        "def scale_2D():\n",
        "  col = int(input(\"Enter the number of points:\"))\n",
        "  a=[]\n",
        "  b=[]\n",
        "  c=[]\n",
        "  scale_x=float(input(\"Enter scaling factor in x direction:\"))\n",
        "  scale_y=float(input(\"Enter scaling factor in y direction:\"))\n",
        "  scale=[]\n",
        "  scale.append(scale_x)\n",
        "  scale.append(scale_y)\n",
        "  for j in range(col):\n",
        "    print(\"Enter\",j+1,\"coordinate\")\n",
        "    A = input()\n",
        "    A = A.split(\",\")\n",
        "    x=float(A[0])\n",
        "    y=float(A[1])\n",
        "    a.append(x)\n",
        "    b.append(y)    \n",
        "  c = np.ones(col)    \n",
        "  matrix=np.array([a,b,c])\n",
        "  print(matrix)\n",
        "  print(scale)\n",
        "  scaling = np.array([[scale[0],0,0],\n",
        "                      [0,scale[1],0],\n",
        "                      [0,0,1]])\n",
        "  plt.figure(figsize=(8,8))\n",
        "  plt.xlim(-15,15)\n",
        "  plt.ylim(-15,15)\n",
        "  plt.plot([-15,15], [0,0], \"-\", color=\"black\", linewidth=0.5)\n",
        "  plt.plot([0,0], [-15,15], \"-\", color=\"black\", linewidth=0.5)\n",
        "  new_matrix = scaling.dot(matrix)\n",
        "  if col == 1:\n",
        "    plt.plot([0,matrix[0,0]],[0,matrix[1,0]],\"-\",color=\"black\")\n",
        "    plt.plot([0,new_matrix[0,0]],[0,new_matrix[1,0]],\"-\",color=\"blue\")\n",
        "  else:\n",
        "    for i in range(col):\n",
        "      if i == (col-1):\n",
        "        plt.plot([matrix[0,i],matrix[0,0]],[matrix[1,i],matrix[1,0]],\"-\",color=\"black\")\n",
        "        plt.plot([new_matrix[0,i],new_matrix[0,0]],[new_matrix[1,i],new_matrix[1,0]],\"-\",color=\"blue\")  \n",
        "      else:  \n",
        "        plt.plot([matrix[0,i],matrix[0,i+1]],[matrix[1,i],matrix[1,i+1]],\"-\",color=\"black\")\n",
        "        plt.plot([new_matrix[0,i],new_matrix[0,i+1]],[new_matrix[1,i],new_matrix[1,i+1]],\"-\",color=\"blue\")  \n",
        "  print(new_matrix)\n",
        "  Initial = mpatch.Patch(color=\"black\", label = \"Initial\")\n",
        "  Final = mpatch.Patch(color=\"blue\", label = \"Final\")\n",
        "  plt.legend(handles=[Initial, Final], loc=\"upper left\")\n",
        "  plt.show()"
      ],
      "execution_count": null,
      "outputs": []
    },
    {
      "cell_type": "code",
      "metadata": {
        "colab": {
          "base_uri": "https://localhost:8080/",
          "height": 790
        },
        "id": "xiW3HTUvigES",
        "outputId": "d5d22913-c669-4005-fef9-db3456641f71"
      },
      "source": [
        "scale_2D()"
      ],
      "execution_count": null,
      "outputs": [
        {
          "output_type": "stream",
          "text": [
            "Enter the number of points:4\n",
            "Enter scaling factor in x direction:1.5\n",
            "Enter scaling factor in y direction:2\n",
            "Enter 1 coordinate\n",
            "0,0\n",
            "Enter 2 coordinate\n",
            "2,0\n",
            "Enter 3 coordinate\n",
            "2,2\n",
            "Enter 4 coordinate\n",
            "0,2\n",
            "[[0. 2. 2. 0.]\n",
            " [0. 0. 2. 2.]\n",
            " [1. 1. 1. 1.]]\n",
            "[1.5, 2.0]\n",
            "[[0. 3. 3. 0.]\n",
            " [0. 0. 4. 4.]\n",
            " [1. 1. 1. 1.]]\n"
          ],
          "name": "stdout"
        },
        {
          "output_type": "display_data",
          "data": {
            "image/png": "[encoded data removed]",
            "text/plain": [
              "<Figure size 576x576 with 1 Axes>"
            ]
          },
          "metadata": {
            "tags": [],
            "needs_background": "light"
          }
        }
      ]
    },
    {
      "cell_type": "markdown",
      "metadata": {
        "id": "E5ZFFi6hZGy_"
      },
      "source": [
        "### Shearing\n",
        "You have to choose between shear in the x direction or shear in the y direction and input the coordinates. The output is a sheared body in the chosen direction"
      ]
    },
    {
      "cell_type": "code",
      "metadata": {
        "id": "l0mkyLXmXq6j"
      },
      "source": [
        "def X(col,matrix,shear_x):\n",
        "  Sh_X = np.array([[1,shear_x,0],\n",
        "                   [0,1,0],\n",
        "                   [0,0,1]])\n",
        "  plt.figure(figsize=(8,8))\n",
        "  plt.xlim(-20,20)\n",
        "  plt.ylim(-20,20)\n",
        "  plt.plot([-20,20], [0,0], \"-\", color=\"black\", linewidth=0.5)\n",
        "  plt.plot([0,0], [-20,20], \"-\", color=\"black\", linewidth=0.5)\n",
        "  new_matrix = Sh_X.dot(matrix)\n",
        "  if col == 1:\n",
        "    plt.plot([0,matrix[0,0]],[0,matrix[1,0]],\"-\",color=\"black\")\n",
        "    plt.plot([0,new_matrix[0,0]],[0,new_matrix[1,0]],\"-\",color=\"blue\")\n",
        "  else:\n",
        "    for i in range(col):\n",
        "      if i == (col-1):\n",
        "        plt.plot([matrix[0,i],matrix[0,0]],[matrix[1,i],matrix[1,0]],\"-\",color=\"black\")\n",
        "        plt.plot([new_matrix[0,i],new_matrix[0,0]],[new_matrix[1,i],new_matrix[1,0]],\"-\",color=\"blue\")  \n",
        "      else:  \n",
        "        plt.plot([matrix[0,i],matrix[0,i+1]],[matrix[1,i],matrix[1,i+1]],\"-\",color=\"black\")\n",
        "        plt.plot([new_matrix[0,i],new_matrix[0,i+1]],[new_matrix[1,i],new_matrix[1,i+1]],\"-\",color=\"blue\")  \n",
        "  print(new_matrix)\n",
        "  Initial = mpatch.Patch(color=\"black\", label = \"Initial\")\n",
        "  Final = mpatch.Patch(color=\"blue\", label = \"Final\")\n",
        "  plt.legend(handles=[Initial, Final], loc=\"upper left\")\n",
        "  plt.show()     \n",
        "\n",
        "def Y(col,matrix,shear_y):\n",
        "  Sh_Y = np.array([[1,0,0],\n",
        "                   [shear_y,1,0],\n",
        "                   [0,0,1]])\n",
        "  plt.figure(figsize=(8,8))\n",
        "  plt.xlim(-20,20)\n",
        "  plt.ylim(-20,20)\n",
        "  plt.plot([-20,20], [0,0], \"-\", color=\"black\", linewidth=0.5)\n",
        "  plt.plot([0,0], [-20,20], \"-\", color=\"black\", linewidth=0.5)\n",
        "  new_matrix = Sh_Y.dot(matrix)\n",
        "  if col == 1:\n",
        "    plt.plot([0,matrix[0,0]],[0,matrix[1,0]],\"-\",color=\"black\")\n",
        "    plt.plot([0,new_matrix[0,0]],[0,new_matrix[1,0]],\"-\",color=\"blue\")\n",
        "  else:\n",
        "    for i in range(col):\n",
        "      if i == (col-1):\n",
        "        plt.plot([matrix[0,i],matrix[0,0]],[matrix[1,i],matrix[1,0]],\"-\",color=\"black\")\n",
        "        plt.plot([new_matrix[0,i],new_matrix[0,0]],[new_matrix[1,i],new_matrix[1,0]],\"-\",color=\"blue\")  \n",
        "      else:  \n",
        "        plt.plot([matrix[0,i],matrix[0,i+1]],[matrix[1,i],matrix[1,i+1]],\"-\",color=\"black\")\n",
        "        plt.plot([new_matrix[0,i],new_matrix[0,i+1]],[new_matrix[1,i],new_matrix[1,i+1]],\"-\",color=\"blue\")  \n",
        "  print(new_matrix)\n",
        "  Initial = mpatch.Patch(color=\"black\", label = \"Initial\")\n",
        "  Final = mpatch.Patch(color=\"blue\", label = \"Final\")\n",
        "  plt.legend(handles=[Initial, Final], loc=\"upper left\")\n",
        "  plt.show()     \n",
        "\n",
        "def shearing_2D():\n",
        "  col = int(input(\"Enter the number of points:\"))\n",
        "  dir = input(\"Enter the direction along which shearing occurs (x/y):\")\n",
        "  if dir == \"x\":\n",
        "    shear_x=float(input(\"Enter value of shear along x axis:\"))\n",
        "  if dir == \"y\":\n",
        "    shear_y=float(input(\"Enter value of shear along y axis:\"))  \n",
        "  a=[]\n",
        "  b=[]\n",
        "  c=[]\n",
        "  for j in range(col):\n",
        "    print(\"Enter\",j+1,\"coordinate\")\n",
        "    A = input()\n",
        "    A = A.split(\",\")\n",
        "    x=float(A[0])\n",
        "    y=float(A[1])\n",
        "    a.append(x)\n",
        "    b.append(y)    \n",
        "  c = np.ones(col)    \n",
        "  matrix=np.array([a,b,c])\n",
        "  print(matrix)\n",
        "  if dir == \"x\":  \n",
        "    X(col,matrix,shear_x)\n",
        "  if dir == \"y\":\n",
        "    Y(col,matrix,shear_y) "
      ],
      "execution_count": null,
      "outputs": []
    },
    {
      "cell_type": "code",
      "metadata": {
        "colab": {
          "base_uri": "https://localhost:8080/",
          "height": 773
        },
        "id": "rDwIYS6Di3GD",
        "outputId": "a19c5a02-f98e-4342-ae45-89f9ebafc995"
      },
      "source": [
        "shearing_2D()"
      ],
      "execution_count": null,
      "outputs": [
        {
          "output_type": "stream",
          "text": [
            "Enter the number of points:4\n",
            "Enter the direction along which shearing occurs (x/y):x\n",
            "Enter value of shear along x axis:2\n",
            "Enter 1 coordinate\n",
            "0,0\n",
            "Enter 2 coordinate\n",
            "3,0\n",
            "Enter 3 coordinate\n",
            "3,3\n",
            "Enter 4 coordinate\n",
            "0,3\n",
            "[[0. 3. 3. 0.]\n",
            " [0. 0. 3. 3.]\n",
            " [1. 1. 1. 1.]]\n",
            "[[0. 3. 9. 6.]\n",
            " [0. 0. 3. 3.]\n",
            " [1. 1. 1. 1.]]\n"
          ],
          "name": "stdout"
        },
        {
          "output_type": "display_data",
          "data": {
            "image/png": "[encoded data removed]",
            "text/plain": [
              "<Figure size 576x576 with 1 Axes>"
            ]
          },
          "metadata": {
            "tags": [],
            "needs_background": "light"
          }
        }
      ]
    },
    {
      "cell_type": "code",
      "metadata": {
        "id": "vFmIAj-Gi-Z5"
      },
      "source": [
        ""
      ],
      "execution_count": null,
      "outputs": []
    }
  ]
}